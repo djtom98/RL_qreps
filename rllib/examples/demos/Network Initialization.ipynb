{
 "cells": [
  {
   "cell_type": "code",
   "execution_count": null,
   "metadata": {},
   "outputs": [],
   "source": [
    "import torch \n",
    "from rllib.policy import NNPolicy, FelixPolicy\n",
    "from rllib.value_function import NNValueFunction\n",
    "from rllib.util import tensor_to_distribution\n",
    "from rllib.util.neural_networks.utilities import random_tensor, zero_bias, init_head_weight\n",
    "\n",
    "import matplotlib.pyplot as plt \n",
    "from matplotlib import rcParams\n",
    "\n",
    "# If in your browser the figures are not nicely vizualized, change the following line. \n",
    "rcParams['font.size'] = 16\n",
    "\n",
    "%load_ext autoreload\n",
    "%autoreload 2"
   ]
  },
  {
   "cell_type": "code",
   "execution_count": null,
   "metadata": {},
   "outputs": [],
   "source": [
    "def plot_policy(policy, num_states=10, num_samples=1000):\n",
    "    dim_state, dim_action = policy.dim_state, policy.dim_action\n",
    "    fig, ax = plt.subplots(num_states, 2, figsize=(18, 10), dpi= 80, facecolor='w', edgecolor='k', sharex='col')\n",
    "    for i in range(num_states):\n",
    "        if i == 0:\n",
    "            state = torch.zeros(dim_state)\n",
    "        else:\n",
    "            state = random_tensor(discrete=False, dim=dim_state, batch_size=None)\n",
    "        out = policy(state)\n",
    "        print(out[1])\n",
    "\n",
    "        normal = tensor_to_distribution(out)\n",
    "        tanh = tensor_to_distribution(out, tanh=True)\n",
    "\n",
    "        ax[i, 0].hist(normal.sample((1000,)).squeeze().clamp_(-1, 1), density=True)\n",
    "        ax[i, 1].hist(tanh.sample((1000,)).squeeze(), density=True)\n",
    "        ax[i, 0].set_xlim([-1.1, 1.1])\n",
    "        ax[i, 1].set_xlim([-1.1, 1.1])\n",
    "\n",
    "    ax[0, 0].set_title('TruncNormal')\n",
    "    ax[0, 1].set_title('Tanh')\n",
    "    ax[-1, 0].set_xlabel('Action')\n",
    "    ax[-1, 1].set_xlabel('Action')\n",
    "\n",
    "    plt.show()\n",
    "\n",
    "def plot_value_function(value_function, num_samples=1000):\n",
    "    dim_state = value_function.dim_state\n",
    "    fig, ax = plt.subplots(1, 1, figsize=(18, 10), dpi= 80, facecolor='w', edgecolor='k')\n",
    "    state = random_tensor(discrete=False, dim=dim_state, batch_size=num_samples)\n",
    "    value = value_function(state)\n",
    "    ax.hist(value.squeeze().detach().numpy(), density=True)\n",
    "    ax.set_xlabel('Value')\n",
    "\n",
    "    plt.show()\n"
   ]
  },
  {
   "cell_type": "markdown",
   "metadata": {},
   "source": [
    "# Policy Initialization"
   ]
  },
  {
   "cell_type": "code",
   "execution_count": null,
   "metadata": {},
   "outputs": [],
   "source": [
    "dim_state, dim_action = 4, 1\n",
    "policy = FelixPolicy(dim_state, dim_action)\n",
    "plot_policy(policy)"
   ]
  },
  {
   "cell_type": "markdown",
   "metadata": {},
   "source": [
    "## NNPolicy with Default Initialization"
   ]
  },
  {
   "cell_type": "code",
   "execution_count": null,
   "metadata": {},
   "outputs": [],
   "source": [
    "dim_state, dim_action = 4, 1\n",
    "policy = NNPolicy(dim_state, dim_action, biased_head=True)\n",
    "plot_policy(policy)"
   ]
  },
  {
   "cell_type": "code",
   "execution_count": null,
   "metadata": {},
   "outputs": [],
   "source": [
    "dim_state, dim_action = 4, 1\n",
    "policy = NNPolicy(dim_state, dim_action, biased_head=False)  # Unbias the head?\n",
    "plot_policy(policy)"
   ]
  },
  {
   "cell_type": "markdown",
   "metadata": {},
   "source": [
    "## NNPolicy with Zero Bias Initialization"
   ]
  },
  {
   "cell_type": "code",
   "execution_count": null,
   "metadata": {},
   "outputs": [],
   "source": [
    "dim_state, dim_action = 4, 1\n",
    "policy = NNPolicy(dim_state, dim_action, biased_head=True)\n",
    "zero_bias(policy)\n",
    "plot_policy(policy)"
   ]
  },
  {
   "cell_type": "markdown",
   "metadata": {},
   "source": [
    "## NNPolicy with Default Head Initialization"
   ]
  },
  {
   "cell_type": "code",
   "execution_count": null,
   "metadata": {},
   "outputs": [],
   "source": [
    "dim_state, dim_action = 4, 1\n",
    "policy = NNPolicy(dim_state, dim_action, biased_head=True)\n",
    "# zero_bias(policy)\n",
    "init_head_weight(policy)\n",
    "plot_policy(policy)"
   ]
  },
  {
   "cell_type": "markdown",
   "metadata": {},
   "source": [
    "## NNPolicy with Zero Bias and Default Weight Initialization"
   ]
  },
  {
   "cell_type": "code",
   "execution_count": null,
   "metadata": {},
   "outputs": [],
   "source": [
    "dim_state, dim_action = 4, 1\n",
    "policy = NNPolicy(dim_state, dim_action, biased_head=True)\n",
    "zero_bias(policy)\n",
    "init_head_weight(policy)\n",
    "plot_policy(policy)"
   ]
  },
  {
   "cell_type": "markdown",
   "metadata": {},
   "source": [
    "## Effect of  Initial Std Dev"
   ]
  },
  {
   "cell_type": "code",
   "execution_count": null,
   "metadata": {},
   "outputs": [],
   "source": [
    "dim_state, dim_action = 4, 1\n",
    "policy = NNPolicy(dim_state, dim_action, initial_scale=0.1)\n",
    "zero_bias(policy)\n",
    "init_head_weight(policy)  # Increase scale weight\n",
    "plot_policy(policy)"
   ]
  },
  {
   "cell_type": "code",
   "execution_count": null,
   "metadata": {},
   "outputs": [],
   "source": [
    "dim_state, dim_action = 4, 1\n",
    "policy = NNPolicy(dim_state, dim_action, initial_scale=0.01)\n",
    "zero_bias(policy)\n",
    "init_head_weight(policy)  # Increase scale weight\n",
    "plot_policy(policy)"
   ]
  },
  {
   "cell_type": "code",
   "execution_count": null,
   "metadata": {},
   "outputs": [],
   "source": [
    "dim_state, dim_action = 4, 1\n",
    "policy = NNPolicy(dim_state, dim_action, initial_scale=0.5)\n",
    "zero_bias(policy)\n",
    "init_head_weight(policy)  # Increase scale weight\n",
    "plot_policy(policy)"
   ]
  },
  {
   "cell_type": "markdown",
   "metadata": {},
   "source": [
    "# Value Functions"
   ]
  },
  {
   "cell_type": "code",
   "execution_count": null,
   "metadata": {},
   "outputs": [],
   "source": [
    "dim_state, dim_action = 4, 1\n",
    "value_function = NNValueFunction(dim_state)\n",
    "zero_bias(value_function)\n",
    "init_head_weight(value_function)  # Increase scale weight\n",
    "torch.nn.init.uniform_(value_function.nn.head.bias, 2 + -0.1, 2 + 0.1)\n",
    "plot_value_function(value_function)"
   ]
  },
  {
   "cell_type": "code",
   "execution_count": null,
   "metadata": {},
   "outputs": [],
   "source": []
  }
 ],
 "metadata": {
  "kernelspec": {
   "display_name": "Python 3",
   "language": "python",
   "name": "python3"
  },
  "language_info": {
   "codemirror_mode": {
    "name": "ipython",
    "version": 3
   },
   "file_extension": ".py",
   "mimetype": "text/x-python",
   "name": "python",
   "nbconvert_exporter": "python",
   "pygments_lexer": "ipython3",
   "version": "3.7.0"
  }
 },
 "nbformat": 4,
 "nbformat_minor": 4
}
